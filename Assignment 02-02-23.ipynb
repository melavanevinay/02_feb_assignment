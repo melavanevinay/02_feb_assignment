{
 "cells": [
  {
   "cell_type": "markdown",
   "id": "fa6f589c-b484-4732-a3b9-34cbb115f23c",
   "metadata": {},
   "source": [
    "## Question No. 1 :\n",
    "\n",
    "### What are the characteristics of the tuples? Is tuple immutable?"
   ]
  },
  {
   "cell_type": "markdown",
   "id": "2f3b6846-7068-4bea-8b93-be9a994ee5ff",
   "metadata": {},
   "source": [
    "### Characteristics of tuple are : \n",
    "\n",
    "1. tuple items are ordered.\n",
    "2. Tuple allows Duplicate values.\n",
    "3. Tuple are immutable. Items in tuple are unchangable.\n",
    "4. Items in tuple can be indexed and index if first item starts with index tuple[0]."
   ]
  },
  {
   "cell_type": "markdown",
   "id": "66521ada-886d-4f96-ae11-9818894c5430",
   "metadata": {},
   "source": [
    "## Question No. 2\n",
    "\n",
    "### What are the two tuple methods in python? Give an example of each method. Give a reason why\n",
    "### tuples have only two in-built methods as compared to Lists."
   ]
  },
  {
   "cell_type": "markdown",
   "id": "75c693f3-c5d9-48dd-ad4b-7a6536099ead",
   "metadata": {},
   "source": [
    "### The two methods in tuple are : \n",
    "\n",
    "### 1. count() method : \n",
    "   \n",
    "   Count() method in tuple returns the number for the given element in tuple is repeated.\n",
    "   Syntax for count method is : tuple_name.count(element)\n",
    "   \n",
    "### 2. Index() method :\n",
    "\n",
    "   Index method returns the first occurance of given element from tuple. \n",
    "   The syntax for index method is : tuple_name.index(element, start, end)\n",
    "   where, \n",
    "   \n",
    "   1. element : element that is to be searched.\n",
    "   2. start :  From which index from where you want to start searching. For default it is 0.\n",
    "   3. end :  upto element till you want to search."
   ]
  },
  {
   "cell_type": "markdown",
   "id": "5ed256fd-59de-4cff-b512-16535e2eb71d",
   "metadata": {},
   "source": [
    "## As a tuple is an immutable data structure in python. Elements of Tuple cannot be modified once they are created hence tuples have two built in methods in tuple."
   ]
  },
  {
   "cell_type": "code",
   "execution_count": 1,
   "id": "a432f780-a9df-4bd0-aa44-6f120386f9b6",
   "metadata": {},
   "outputs": [
    {
     "data": {
      "text/plain": [
       "2"
      ]
     },
     "execution_count": 1,
     "metadata": {},
     "output_type": "execute_result"
    }
   ],
   "source": [
    "# Example for count() method:\n",
    "\n",
    "a=(1,2,3,4,5,6,7,2,4,5,6,8)\n",
    "a.count(6)"
   ]
  },
  {
   "cell_type": "code",
   "execution_count": 2,
   "id": "76d0cf4a-88ae-49fc-a75e-9e8e69bc1e00",
   "metadata": {},
   "outputs": [
    {
     "data": {
      "text/plain": [
       "5"
      ]
     },
     "execution_count": 2,
     "metadata": {},
     "output_type": "execute_result"
    }
   ],
   "source": [
    "# Example for index() method\n",
    "\n",
    "v=(1,2,3,4,5,3,5,7,6)\n",
    "m=v.index(3,4)\n",
    "m"
   ]
  },
  {
   "cell_type": "markdown",
   "id": "70de9216-a3d0-4714-a913-08d64ef4f9ef",
   "metadata": {},
   "source": [
    "## Question no 3:"
   ]
  },
  {
   "cell_type": "markdown",
   "id": "a670b4d9-5f95-4cda-ad62-98be607c7161",
   "metadata": {},
   "source": [
    "### Which collection datatypes in python do not allow duplicate items? Write a code using a set to remove duplicates from the given list."
   ]
  },
  {
   "cell_type": "markdown",
   "id": "52e53373-b9fc-4617-8e0c-286465e61f14",
   "metadata": {},
   "source": [
    "### Datasets which do not allow duplicate values:"
   ]
  },
  {
   "cell_type": "markdown",
   "id": "c832cae6-364e-4a9f-ab68-94e68dc22ca2",
   "metadata": {},
   "source": [
    "### 1. Set datatype.\n",
    "### 2. dictonary datatype."
   ]
  },
  {
   "cell_type": "code",
   "execution_count": 4,
   "id": "00cbfbc3-15a5-40f2-a766-83f04bc530e0",
   "metadata": {},
   "outputs": [],
   "source": [
    "List = [1, 1, 1, 2, 1, 3, 1, 4, 2, 1, 2, 2, 2, 3, 2, 4, 3, 1, 3, 2, 3, 3, 3, 4, 4, 1, 4, 2, 4, 3, 4, 4]\n",
    "a=set(List)"
   ]
  },
  {
   "cell_type": "code",
   "execution_count": 5,
   "id": "43eb32f4-fc2d-4512-873e-0077877ed1f1",
   "metadata": {},
   "outputs": [
    {
     "data": {
      "text/plain": [
       "{1, 2, 3, 4}"
      ]
     },
     "execution_count": 5,
     "metadata": {},
     "output_type": "execute_result"
    }
   ],
   "source": [
    "a"
   ]
  },
  {
   "cell_type": "markdown",
   "id": "26ef6867-78d7-40c5-815d-6ad0c7a7f34f",
   "metadata": {},
   "source": [
    "## Question no 4:"
   ]
  },
  {
   "cell_type": "markdown",
   "id": "06f8e47b-f5f0-47ff-8fef-ac2b2bd381f5",
   "metadata": {},
   "source": [
    "### Explain the difference between the union() and update() methods for a set. Give an example of each method."
   ]
  },
  {
   "cell_type": "markdown",
   "id": "3d5a5c70-f511-4a73-a3c9-5a436023e438",
   "metadata": {},
   "source": [
    "### Both union() and update() methods are used to join the two or more sets. The only difference between the union() and update() is:"
   ]
  },
  {
   "cell_type": "markdown",
   "id": "2c7815a4-9150-45c2-a607-19674c3000ec",
   "metadata": {},
   "source": [
    "## union()\n",
    "### Using union() method will return a new set with all items from given set."
   ]
  },
  {
   "cell_type": "code",
   "execution_count": 1,
   "id": "7bb9e36c-33b1-49a0-abdb-35f50656930c",
   "metadata": {},
   "outputs": [
    {
     "data": {
      "text/plain": [
       "{1, 2, 3, 4, 5, 6, 7}"
      ]
     },
     "execution_count": 1,
     "metadata": {},
     "output_type": "execute_result"
    }
   ],
   "source": [
    "set_1 = {1,2,3,4}\n",
    "set_2 = {4,5,6,7}\n",
    "\n",
    "set_1.union(set_2)"
   ]
  },
  {
   "cell_type": "code",
   "execution_count": 2,
   "id": "cf5003e3-bf7c-425b-a88e-fdc7192bbeff",
   "metadata": {},
   "outputs": [
    {
     "data": {
      "text/plain": [
       "{1, 2, 3, 4}"
      ]
     },
     "execution_count": 2,
     "metadata": {},
     "output_type": "execute_result"
    }
   ],
   "source": [
    "set_1"
   ]
  },
  {
   "cell_type": "markdown",
   "id": "3107fdf1-1a68-4a26-b5d8-e618a58b6fd5",
   "metadata": {},
   "source": [
    "## update()\n",
    "### Using update() method will update the current set by adding the items from specified sets."
   ]
  },
  {
   "cell_type": "markdown",
   "id": "4689e3b7-706e-47b0-a238-145521909662",
   "metadata": {},
   "source": [
    "### both union() and update() methods will exclude the duplicate items. It will allow single occurance of duplicate items "
   ]
  },
  {
   "cell_type": "code",
   "execution_count": 3,
   "id": "5096d2a0-4edf-475f-83bf-0a3117663ba8",
   "metadata": {},
   "outputs": [],
   "source": [
    "set_1 = {1,2,3,4}\n",
    "set_2 = {4,5,6,7}\n",
    "\n",
    "set_1.update(set_2)"
   ]
  },
  {
   "cell_type": "code",
   "execution_count": 4,
   "id": "885f717d-a1c2-4057-9267-8d46e56be1d9",
   "metadata": {},
   "outputs": [
    {
     "data": {
      "text/plain": [
       "{1, 2, 3, 4, 5, 6, 7}"
      ]
     },
     "execution_count": 4,
     "metadata": {},
     "output_type": "execute_result"
    }
   ],
   "source": [
    "set_1"
   ]
  },
  {
   "cell_type": "markdown",
   "id": "79f64265-73ea-4c28-8b79-34970c75b638",
   "metadata": {},
   "source": [
    "## Quetsion No 5 :"
   ]
  },
  {
   "cell_type": "markdown",
   "id": "befe05dc-f65c-4fd0-b719-ea4e5f487cf4",
   "metadata": {},
   "source": [
    "## What is a dictionary? Give an example. Also, state whether a dictionary is ordered or unordered."
   ]
  },
  {
   "cell_type": "markdown",
   "id": "024fc420-d804-4140-a745-6ad2e0408379",
   "metadata": {},
   "source": [
    "## Dictonery is collection of key-value pair. Dictonery can be defined as enclosed comma seperated key-value pair in curly braces. A colon \":\" seperates key from its associated value.\n",
    "## It is ordered collection of data type."
   ]
  },
  {
   "cell_type": "code",
   "execution_count": 1,
   "id": "39c5c543-f130-4eb4-8ec5-c065a7192558",
   "metadata": {},
   "outputs": [],
   "source": [
    "d1={\"name\":\"Vinay\", \"surname\":\"Melavane\", \"address\" : \"Satara\"}"
   ]
  },
  {
   "cell_type": "code",
   "execution_count": 3,
   "id": "32e63770-42a0-424a-864e-93c2357201ce",
   "metadata": {},
   "outputs": [
    {
     "name": "stdout",
     "output_type": "stream",
     "text": [
      "<class 'dict'>\n",
      "{'name': 'Vinay', 'surname': 'Melavane', 'address': 'Satara'}\n"
     ]
    }
   ],
   "source": [
    "print(type(d1))\n",
    "print(d1)"
   ]
  },
  {
   "cell_type": "markdown",
   "id": "770e6ab7-b44e-4337-af36-480b709732a2",
   "metadata": {},
   "source": [
    "## Question No 6 :"
   ]
  },
  {
   "cell_type": "markdown",
   "id": "a21d951f-619b-4fe5-b3b6-9ec36a6f6685",
   "metadata": {},
   "source": [
    "## Can we create a nested dictionary? If so, please give an example by creating a simple one-level nested dictionary."
   ]
  },
  {
   "cell_type": "markdown",
   "id": "d2bcec24-e187-4e8a-abfd-6fc886905211",
   "metadata": {},
   "source": [
    "## Nested dictonery can be created.\n",
    "## Example"
   ]
  },
  {
   "cell_type": "code",
   "execution_count": 6,
   "id": "d611b2d3-e03c-41c8-bbe1-37b04d8d7c78",
   "metadata": {},
   "outputs": [],
   "source": [
    "d2={\"d3\":{\"a\":1 , \"b\":2 , \"c\":3}}"
   ]
  },
  {
   "cell_type": "markdown",
   "id": "c61e218e-2d6b-41ba-aa56-2714e1128204",
   "metadata": {},
   "source": [
    "## Question No 7 :"
   ]
  },
  {
   "cell_type": "markdown",
   "id": "a9ae74a7-77bc-4af9-b31a-aff79719a41e",
   "metadata": {},
   "source": [
    "### Using setdefault() method, create key named topics in the given dictionary and also add the value of the key as this list ['Python', 'Machine Learning’, 'Deep Learning']\n",
    "### dict1 = {'language' : 'Python', 'course': 'Data Science Masters'}"
   ]
  },
  {
   "cell_type": "code",
   "execution_count": 12,
   "id": "bab309a6-72da-4fe6-a3fc-03536c101c6a",
   "metadata": {},
   "outputs": [],
   "source": [
    "dict1 = {'language' : 'Python', 'course': 'Data Science Masters'}"
   ]
  },
  {
   "cell_type": "code",
   "execution_count": 13,
   "id": "8a22850b-5c29-46e5-88a9-96267aa6e395",
   "metadata": {},
   "outputs": [
    {
     "data": {
      "text/plain": [
       "['python', 'Machine Learning', 'Deep learning']"
      ]
     },
     "execution_count": 13,
     "metadata": {},
     "output_type": "execute_result"
    }
   ],
   "source": [
    "dict1.setdefault(\"topics\",['python','Machine Learning','Deep learning'])"
   ]
  },
  {
   "cell_type": "code",
   "execution_count": 14,
   "id": "345bfa6d-c4aa-4655-a1c6-a90e8c37a835",
   "metadata": {},
   "outputs": [
    {
     "data": {
      "text/plain": [
       "{'language': 'Python',\n",
       " 'course': 'Data Science Masters',\n",
       " 'topics': ['python', 'Machine Learning', 'Deep learning']}"
      ]
     },
     "execution_count": 14,
     "metadata": {},
     "output_type": "execute_result"
    }
   ],
   "source": [
    "dict1"
   ]
  },
  {
   "cell_type": "markdown",
   "id": "4ff55e54-17eb-4424-8861-7434388cbee8",
   "metadata": {},
   "source": [
    "## Question No 8 :"
   ]
  },
  {
   "cell_type": "markdown",
   "id": "7f8227f1-edef-4b17-be1e-8cc0a8c71c11",
   "metadata": {},
   "source": [
    "## What are the three view objects in dictionaries? Use the three in-built methods in python to display these three view objects for the given dictionary."
   ]
  },
  {
   "cell_type": "markdown",
   "id": "2e36ac17-304d-435d-8564-477702f2c5f2",
   "metadata": {},
   "source": [
    "## dict1 = {'Sport': 'Cricket' , 'Teams': ['India', 'Australia', 'England', 'South Africa', 'Sri Lanka', 'New Zealand']}"
   ]
  },
  {
   "cell_type": "markdown",
   "id": "18208253-973d-49d2-9118-d38c0a53d923",
   "metadata": {},
   "source": [
    "### Three view Objects in python are :\n",
    "### 1. key\n",
    "### 2. value\n",
    "### 3. item"
   ]
  },
  {
   "cell_type": "code",
   "execution_count": 15,
   "id": "fef99c28-b791-4cc5-986a-6ed437a3a81a",
   "metadata": {},
   "outputs": [],
   "source": [
    "dict1 = {'Sport': 'Cricket' , 'Teams': ['India', 'Australia', 'England', 'South Africa', 'Sri Lanka', 'New Zealand']}"
   ]
  },
  {
   "cell_type": "code",
   "execution_count": 16,
   "id": "8be26b3d-ce83-47c1-864e-c63872c28e08",
   "metadata": {},
   "outputs": [
    {
     "data": {
      "text/plain": [
       "dict_keys(['Sport', 'Teams'])"
      ]
     },
     "execution_count": 16,
     "metadata": {},
     "output_type": "execute_result"
    }
   ],
   "source": [
    "dict1.keys()"
   ]
  },
  {
   "cell_type": "code",
   "execution_count": 17,
   "id": "296db853-181b-4521-a5dd-46f4863e5126",
   "metadata": {},
   "outputs": [
    {
     "data": {
      "text/plain": [
       "dict_values(['Cricket', ['India', 'Australia', 'England', 'South Africa', 'Sri Lanka', 'New Zealand']])"
      ]
     },
     "execution_count": 17,
     "metadata": {},
     "output_type": "execute_result"
    }
   ],
   "source": [
    "dict1.values()"
   ]
  },
  {
   "cell_type": "code",
   "execution_count": 18,
   "id": "f3319cac-8fc5-4b12-a516-bb055f7f1ac6",
   "metadata": {},
   "outputs": [
    {
     "data": {
      "text/plain": [
       "dict_items([('Sport', 'Cricket'), ('Teams', ['India', 'Australia', 'England', 'South Africa', 'Sri Lanka', 'New Zealand'])])"
      ]
     },
     "execution_count": 18,
     "metadata": {},
     "output_type": "execute_result"
    }
   ],
   "source": [
    "dict1.items()"
   ]
  },
  {
   "cell_type": "code",
   "execution_count": null,
   "id": "40ab9ed7-65e1-48cf-9c57-767931aaf634",
   "metadata": {},
   "outputs": [],
   "source": []
  }
 ],
 "metadata": {
  "kernelspec": {
   "display_name": "Python 3 (ipykernel)",
   "language": "python",
   "name": "python3"
  },
  "language_info": {
   "codemirror_mode": {
    "name": "ipython",
    "version": 3
   },
   "file_extension": ".py",
   "mimetype": "text/x-python",
   "name": "python",
   "nbconvert_exporter": "python",
   "pygments_lexer": "ipython3",
   "version": "3.10.8"
  }
 },
 "nbformat": 4,
 "nbformat_minor": 5
}
